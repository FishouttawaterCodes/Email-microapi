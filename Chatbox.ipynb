{
  "nbformat": 4,
  "nbformat_minor": 0,
  "metadata": {
    "colab": {
      "name": "Chatbox",
      "provenance": [],
      "authorship_tag": "ABX9TyOtpe+DEOLhR2FhfB+MIeQV",
      "include_colab_link": true
    },
    "kernelspec": {
      "name": "python3",
      "display_name": "Python 3"
    }
  },
  "cells": [
    {
      "cell_type": "markdown",
      "metadata": {
        "id": "view-in-github",
        "colab_type": "text"
      },
      "source": [
        "<a href=\"https://colab.research.google.com/github/FishouttawaterCodes/Email-microapi/blob/master/Chatbox.ipynb\" target=\"_parent\"><img src=\"https://colab.research.google.com/assets/colab-badge.svg\" alt=\"Open In Colab\"/></a>"
      ]
    },
    {
      "cell_type": "code",
      "metadata": {
        "id": "ePuvAmJmBrak",
        "colab_type": "code",
        "colab": {}
      },
      "source": [
        "# Description: This is a chat bot program"
      ],
      "execution_count": null,
      "outputs": []
    },
    {
      "cell_type": "code",
      "metadata": {
        "id": "HlyJCbtrCKuo",
        "colab_type": "code",
        "colab": {}
      },
      "source": [
        "#import the library\n",
        "from nltk.chat.util import Chat, reflections"
      ],
      "execution_count": 1,
      "outputs": []
    },
    {
      "cell_type": "code",
      "metadata": {
        "id": "mS1b-J0tCzSH",
        "colab_type": "code",
        "colab": {}
      },
      "source": [
        "pairs = [\n",
        "         [\"My name is (.*)\", [\"hi %1\"]],\n",
        "         ['(hi|hello|hey|holla|hola)', ['hey there', 'hi there']],\n",
        "         ['(.*) in (.*) is fun', ['%1 in %2 is indeed fun']],\n",
        "         ['(.*)(location|city) ?', 'Lagos, Nigeria'],\n",
        "         ['(.*) created you ?', ['fishouttawater did using NLTK']],\n",
        "         ['how is the weather in (.*)', ['the weather in %1 is amazing like always']],\n",
        "         ['(.*)help(.*)', ['I can help you']],\n",
        "         ['(.*) your name ?', ['my name is F.I.S.H']]\n",
        "]"
      ],
      "execution_count": 40,
      "outputs": []
    },
    {
      "cell_type": "code",
      "metadata": {
        "id": "erOsU00GG6hf",
        "colab_type": "code",
        "colab": {}
      },
      "source": [
        "reflections"
      ],
      "execution_count": null,
      "outputs": []
    },
    {
      "cell_type": "code",
      "metadata": {
        "id": "Mt__NYYxHg0q",
        "colab_type": "code",
        "colab": {}
      },
      "source": [
        "my_dummy_reflections = {\n",
        "    'hello' : 'hey there'\n",
        "}"
      ],
      "execution_count": 17,
      "outputs": []
    },
    {
      "cell_type": "code",
      "metadata": {
        "id": "0MkzJBVwDWby",
        "colab_type": "code",
        "colab": {}
      },
      "source": [
        "chat = Chat(pairs, my_dummy_reflections)\n",
        "#chat._substitute('hello')\n",
        "chat.converse()"
      ],
      "execution_count": null,
      "outputs": []
    }
  ]
}